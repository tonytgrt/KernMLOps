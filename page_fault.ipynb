{
 "cells": [
  {
   "cell_type": "code",
   "execution_count": 1,
   "id": "4da464b6-89fc-4ca2-9290-f3bebbe2dfad",
   "metadata": {},
   "outputs": [],
   "source": [
    "!make docker-image > /dev/null 2>&1"
   ]
  },
  {
   "cell_type": "code",
   "execution_count": 2,
   "id": "a62bef45-339e-44c1-8309-874c236ed23f",
   "metadata": {},
   "outputs": [],
   "source": [
    "!CONTAINER_CMD=\"bash -lc 'make install-ycsb\" make docker > /dev/null 2>&1"
   ]
  },
  {
   "cell_type": "code",
   "execution_count": 3,
   "id": "f2a1beeb-3882-4dd0-91c7-aa98c303c893",
   "metadata": {},
   "outputs": [],
   "source": [
    "from pathlib import Path\n",
    "import pexpect\n",
    "import os\n",
    "import time\n",
    "\n",
    "\"\"\" Collector class has helper methods to interact with kermit\"\"\"\n",
    "class Collector: \n",
    "    def __init__(self, config: Path):\n",
    "        self.env = os.environ.copy()\n",
    "        self.env[\"INTERACTIVE\"] = \"it\"\n",
    "        self.env[\"CONTAINER_CMD\"] = f\"bash -lc 'KERNMLOPS_CONFIG_FILE={config} make collect-data'\"\n",
    "        self.collect_process : pexpect.spawn | None = None\n",
    "\n",
    "    def start_collection(self, logfile=None):\n",
    "        self.collect_process = pexpect.spawn(\"make docker\", env=self.env, timeout=None, logfile=logfile)\n",
    "        self.collect_process.expect_exact([\"Started benchmark\"])\n",
    "\n",
    "    def _after_run_generate_file_data() -> dict[str, list[Path]]:\n",
    "        start_path : Path = Path(\"./data\")\n",
    "        list_of_collect_id_dirs = start_path.glob(\"*/*/*\")\n",
    "        latest_collect_id = max(list_of_collect_id_dirs, key=os.path.getctime)\n",
    "        list_of_files = latest_collect_id.glob(\"*.*.parquet\")\n",
    "        output = {}\n",
    "        for f in list_of_files:\n",
    "            index = str(f).removeprefix(str(f.parent) + \"/\").split(\".\")[0]\n",
    "            if index not in output.keys():\n",
    "                output[index] = []\n",
    "            output[index].append(f)\n",
    "        return output\n",
    "        \n",
    "    def wait(self) -> int:\n",
    "        if self.collect_process is None:\n",
    "            return\n",
    "        self.collect_process.expect([pexpect.EOF])\n",
    "        self.collect_process.wait()\n",
    "        return Collector._after_run_generate_file_data()\n",
    "        \n",
    "    def stop_collection(self):\n",
    "        if self.collect_process is None:\n",
    "            return\n",
    "        self.collect_process.sendline(\"END\")\n",
    "        return self.wait()"
   ]
  },
  {
   "cell_type": "markdown",
   "id": "f5874f9a-d168-446b-9a52-ec5b49f7c35f",
   "metadata": {},
   "source": [
    "There are two ways to run kermit:\n",
    "- With the raw config\n",
    "- With a pre-programmed benchmark config"
   ]
  },
  {
   "cell_type": "code",
   "execution_count": 4,
   "id": "c8c72431-e9f9-401e-a3a6-1e69dd1063f3",
   "metadata": {},
   "outputs": [
    {
     "name": "stdout",
     "output_type": "stream",
     "text": [
      "Process PID: 51123\n",
      "----------------------------\n",
      "Initial - Major (hard) page faults: 1, Minor (soft) page faults: 609\n",
      "Cannot drop caches (not root). Hard page fault unlikely.\n",
      "Before access - Major (hard) page faults: 1, Minor (soft) page faults: 611\n",
      "After access - Major (hard) page faults: 2, Minor (soft) page faults: 611\n",
      "\n",
      "Read value: A\n",
      "\n",
      "For best results ensuring a hard page fault:\n",
      "1. Run: ./page_fault create\n",
      "2. Run: echo 3 | sudo tee /proc/sys/vm/drop_caches\n",
      "3. Run: ./page_fault access\n",
      "Total faults: 14109\n",
      "Major faults: 126\n",
      "Major faults for page_fault app: 7\n",
      "shape: (10, 2)\n",
      "┌─────────────┬─────┐\n",
      "│ comm        ┆ len │\n",
      "│ ---         ┆ --- │\n",
      "│ str         ┆ u32 │\n",
      "╞═════════════╪═════╡\n",
      "│ cat         ┆ 28  │\n",
      "│ sed         ┆ 20  │\n",
      "│ ps          ┆ 19  │\n",
      "│ python      ┆ 1   │\n",
      "│ bash        ┆ 8   │\n",
      "│ sleep       ┆ 7   │\n",
      "│ cpuUsage.sh ┆ 8   │\n",
      "│ sh          ┆ 21  │\n",
      "│ page_fault  ┆ 7   │\n",
      "│ which       ┆ 7   │\n",
      "└─────────────┴─────┘\n"
     ]
    }
   ],
   "source": [
    "# New Page Fault Collector\n",
    "collect = Collector(\"./config/raw_overrides.yaml\")\n",
    "log = open(\"page_fault_log.txt\", \"bw\")\n",
    "    \n",
    "collect.start_collection(logfile=log)\n",
    "\n",
    "# Run a program that causes exactly 1 page fault in user space\n",
    "!./page_fault\n",
    "\n",
    "data = collect.stop_collection()\n",
    "log.close()\n",
    "\n",
    "# Check what was collected\n",
    "# print(\"Available keys:\", data.keys())\n",
    "# print(data)\n",
    "\n",
    "# Read the log to see if there were errors\n",
    "# with open(\"page_fault_log.txt\", \"r\") as f:\n",
    "#    print(\"Log contents:\", f.read())\n",
    "\n",
    "# Analyze results\n",
    "import polars as pl\n",
    "df = pl.read_parquet(data[\"page_fault\"])\n",
    "# print(df.head())\n",
    "print(f\"Total faults: {len(df)}\")\n",
    "print(f\"Major faults: {df.filter(pl.col('is_major')).height}\")\n",
    "# Check fault patterns\n",
    "df_filtered = df.filter(\n",
    "    (pl.col('comm') == 'page_fault') & \n",
    "    (pl.col('is_major') == True)\n",
    ")\n",
    "print(f\"Major faults for page_fault app: {len(df_filtered)}\")\n",
    "\n",
    "major_summary = df.filter(pl.col('is_major')).group_by('comm').len()\n",
    "print(major_summary)"
   ]
  },
  {
   "cell_type": "code",
   "execution_count": 5,
   "id": "b9e59363-0273-4ed1-bfd3-cabda586c325",
   "metadata": {},
   "outputs": [],
   "source": [
    "collect = Collector(\"./config/redis_never.yaml\")\n",
    "collect.start_collection(None)\n",
    "data = collect.stop_collection()"
   ]
  },
  {
   "cell_type": "code",
   "execution_count": 6,
   "id": "ffe8fc10-9a43-4751-9581-eb33f1b61a17",
   "metadata": {},
   "outputs": [
    {
     "name": "stdout",
     "output_type": "stream",
     "text": [
      "shape: (67, 2)\n",
      "┌─────────────────┬────────┐\n",
      "│ comm            ┆ count  │\n",
      "│ ---             ┆ ---    │\n",
      "│ str             ┆ u32    │\n",
      "╞═════════════════╪════════╡\n",
      "│ python          ┆ 162614 │\n",
      "│ C2 CompilerThre ┆ 113542 │\n",
      "│ java            ┆ 105448 │\n",
      "│ C1 CompilerThre ┆ 20956  │\n",
      "│ Thread-2        ┆ 13635  │\n",
      "│ …               ┆ …      │\n",
      "│ dockerd         ┆ 8      │\n",
      "│ VM Periodic Tas ┆ 6      │\n",
      "│ docker          ┆ 5      │\n",
      "│ Service Thread  ┆ 5      │\n",
      "│ jemalloc_bg_thd ┆ 4      │\n",
      "└─────────────────┴────────┘\n",
      "Total faults: 480784\n",
      "Major faults: 10248\n",
      "Major faults for redis-server app: 68\n",
      "shape: (22, 2)\n",
      "┌─────────────────┬───────┐\n",
      "│ comm            ┆ count │\n",
      "│ ---             ┆ ---   │\n",
      "│ str             ┆ u32   │\n",
      "╞═════════════════╪═══════╡\n",
      "│ java            ┆ 8755  │\n",
      "│ cat             ┆ 266   │\n",
      "│ sh              ┆ 213   │\n",
      "│ sed             ┆ 190   │\n",
      "│ ps              ┆ 182   │\n",
      "│ …               ┆ …     │\n",
      "│ uname           ┆ 12    │\n",
      "│ tmcc.bin        ┆ 7     │\n",
      "│ C2 CompilerThre ┆ 3     │\n",
      "│ Thread-2        ┆ 1     │\n",
      "│ GC Thread#8     ┆ 1     │\n",
      "└─────────────────┴───────┘\n"
     ]
    },
    {
     "name": "stderr",
     "output_type": "stream",
     "text": [
      "/tmp/ipykernel_50760/1416197042.py:5: DeprecationWarning: `GroupBy.count` was renamed; use `GroupBy.len` instead\n",
      "  print(df.group_by(\"comm\").count().sort(\"count\", descending=True))\n",
      "/tmp/ipykernel_50760/1416197042.py:16: DeprecationWarning: `GroupBy.count` was renamed; use `GroupBy.len` instead\n",
      "  major_summary = df.filter(pl.col('is_major')).group_by('comm').count().sort(\"count\", descending=True)\n"
     ]
    }
   ],
   "source": [
    "# Analyze TCP branches\n",
    "import polars as pl\n",
    "df = pl.read_parquet(data[\"page_fault\"])\n",
    "\n",
    "print(df.group_by(\"comm\").count().sort(\"count\", descending=True))\n",
    "\n",
    "print(f\"Total faults: {len(df)}\")\n",
    "print(f\"Major faults: {df.filter(pl.col('is_major')).height}\")\n",
    "# Check fault patterns\n",
    "df_filtered = df.filter(\n",
    "    (pl.col('comm') == 'redis-server') & \n",
    "    (pl.col('is_major') == True)\n",
    ")\n",
    "print(f\"Major faults for redis-server app: {len(df_filtered)}\")\n",
    "\n",
    "major_summary = df.filter(pl.col('is_major')).group_by('comm').count().sort(\"count\", descending=True)\n",
    "print(major_summary)"
   ]
  },
  {
   "cell_type": "code",
   "execution_count": 7,
   "id": "a1994657-5088-4a55-8c97-785073912778",
   "metadata": {},
   "outputs": [
    {
     "name": "stdout",
     "output_type": "stream",
     "text": [
      "Starting collection with XSBench workload...\n",
      "Running XSBench benchmark...\n"
     ]
    }
   ],
   "source": [
    "# Create collector with XSBench configuration\n",
    "collect = Collector(\"./config/xsbench.yaml\")\n",
    "\n",
    "# Start collection and run XSBench\n",
    "print(\"Starting collection with XSBench workload...\")\n",
    "collect.start_collection(None)\n",
    "\n",
    "# Wait for XSBench to complete\n",
    "print(\"Running XSBench benchmark...\")\n",
    "data = collect.stop_collection()"
   ]
  },
  {
   "cell_type": "code",
   "execution_count": 8,
   "id": "8ea31c15-01fd-49c6-8000-a20382c062c3",
   "metadata": {},
   "outputs": [
    {
     "name": "stdout",
     "output_type": "stream",
     "text": [
      "shape: (15, 2)\n",
      "┌─────────────────┬───────┐\n",
      "│ comm            ┆ count │\n",
      "│ ---             ┆ ---   │\n",
      "│ str             ┆ u32   │\n",
      "╞═════════════════╪═══════╡\n",
      "│ python          ┆ 14589 │\n",
      "│ XSBench         ┆ 1211  │\n",
      "│ cpuUsage.sh     ┆ 991   │\n",
      "│ node            ┆ 774   │\n",
      "│ ps              ┆ 409   │\n",
      "│ …               ┆ …     │\n",
      "│ systemd-journal ┆ 78    │\n",
      "│ sleep           ┆ 76    │\n",
      "│ which           ┆ 70    │\n",
      "│ jupyter-noteboo ┆ 4     │\n",
      "│ systemd         ┆ 4     │\n",
      "└─────────────────┴───────┘\n",
      "Total faults: 19283\n",
      "Major faults: 135\n",
      "Major faults for XSBench app: 7\n",
      "shape: (10, 2)\n",
      "┌─────────────┬───────┐\n",
      "│ comm        ┆ count │\n",
      "│ ---         ┆ ---   │\n",
      "│ str         ┆ u32   │\n",
      "╞═════════════╪═══════╡\n",
      "│ cat         ┆ 28    │\n",
      "│ sh          ┆ 21    │\n",
      "│ sed         ┆ 20    │\n",
      "│ sshd        ┆ 19    │\n",
      "│ ps          ┆ 17    │\n",
      "│ cpuUsage.sh ┆ 8     │\n",
      "│ which       ┆ 7     │\n",
      "│ XSBench     ┆ 7     │\n",
      "│ sleep       ┆ 7     │\n",
      "│ python      ┆ 1     │\n",
      "└─────────────┴───────┘\n"
     ]
    },
    {
     "name": "stderr",
     "output_type": "stream",
     "text": [
      "/tmp/ipykernel_50760/1404039077.py:3: DeprecationWarning: `GroupBy.count` was renamed; use `GroupBy.len` instead\n",
      "  print(df.group_by(\"comm\").count().sort(\"count\", descending=True))\n",
      "/tmp/ipykernel_50760/1404039077.py:14: DeprecationWarning: `GroupBy.count` was renamed; use `GroupBy.len` instead\n",
      "  major_summary = df.filter(pl.col('is_major')).group_by('comm').count().sort(\"count\", descending=True)\n"
     ]
    }
   ],
   "source": [
    "df = pl.read_parquet(data[\"page_fault\"])\n",
    "\n",
    "print(df.group_by(\"comm\").count().sort(\"count\", descending=True))\n",
    "\n",
    "print(f\"Total faults: {len(df)}\")\n",
    "print(f\"Major faults: {df.filter(pl.col('is_major')).height}\")\n",
    "# Check fault patterns\n",
    "df_filtered = df.filter(\n",
    "    (pl.col('comm') == 'XSBench') & \n",
    "    (pl.col('is_major') == True)\n",
    ")\n",
    "print(f\"Major faults for XSBench app: {len(df_filtered)}\")\n",
    "\n",
    "major_summary = df.filter(pl.col('is_major')).group_by('comm').count().sort(\"count\", descending=True)\n",
    "print(major_summary)"
   ]
  },
  {
   "cell_type": "code",
   "execution_count": null,
   "id": "9fad914c-bd29-4e80-a5c9-f37cb88f14d5",
   "metadata": {},
   "outputs": [],
   "source": []
  }
 ],
 "metadata": {
  "kernelspec": {
   "display_name": "Python 3 (ipykernel)",
   "language": "python",
   "name": "python3"
  },
  "language_info": {
   "codemirror_mode": {
    "name": "ipython",
    "version": 3
   },
   "file_extension": ".py",
   "mimetype": "text/x-python",
   "name": "python",
   "nbconvert_exporter": "python",
   "pygments_lexer": "ipython3",
   "version": "3.12.3"
  }
 },
 "nbformat": 4,
 "nbformat_minor": 5
}
